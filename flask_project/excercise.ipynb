{
 "cells": [
  {
   "cell_type": "code",
   "execution_count": null,
   "metadata": {},
   "outputs": [
    {
     "name": "stdout",
     "output_type": "stream",
     "text": [
      "numpy: 2.2.3\n",
      "['False_', 'ScalarType', 'True_', '_CopyMode', '_NoValue', '__NUMPY_SETUP__', '__all__', '__array_api_version__', '__array_namespace_info__', '__builtins__', '__cached__', '__config__', '__dir__', '__doc__', '__expired_attributes__', '__file__', '__former_attrs__', '__future_scalars__', '__getattr__', '__loader__', '__name__', '__numpy_submodules__', '__package__', '__path__', '__spec__', '__version__', '_array_api_info', '_core', '_distributor_init', '_expired_attrs_2_0', '_globals', '_int_extended_msg', '_mat', '_msg', '_pyinstaller_hooks_dir', '_pytesttester', '_specific_msg', '_type_info', '_typing', '_utils', 'abs', 'absolute', 'acos', 'acosh', 'add', 'all', 'allclose', 'amax', 'amin', 'angle', 'any', 'append', 'apply_along_axis', 'apply_over_axes', 'arange', 'arccos', 'arccosh', 'arcsin', 'arcsinh', 'arctan', 'arctan2', 'arctanh', 'argmax', 'argmin', 'argpartition', 'argsort', 'argwhere', 'around', 'array', 'array2string', 'array_equal', 'array_equiv', 'array_repr', 'array_split', 'array_str', 'asanyarray', 'asarray', 'asarray_chkfinite', 'ascontiguousarray', 'asfortranarray', 'asin', 'asinh', 'asmatrix', 'astype', 'atan', 'atan2', 'atanh', 'atleast_1d', 'atleast_2d', 'atleast_3d', 'average', 'bartlett', 'base_repr', 'binary_repr', 'bincount', 'bitwise_and', 'bitwise_count', 'bitwise_invert', 'bitwise_left_shift', 'bitwise_not', 'bitwise_or', 'bitwise_right_shift', 'bitwise_xor', 'blackman', 'block', 'bmat', 'bool', 'bool_', 'broadcast', 'broadcast_arrays', 'broadcast_shapes', 'broadcast_to', 'busday_count', 'busday_offset', 'busdaycalendar', 'byte', 'bytes_', 'c_', 'can_cast', 'cbrt', 'cdouble', 'ceil', 'char', 'character', 'choose', 'clip', 'clongdouble', 'column_stack', 'common_type', 'complex128', 'complex64', 'complexfloating', 'compress', 'concat', 'concatenate', 'conj', 'conjugate', 'convolve', 'copy', 'copysign', 'copyto', 'core', 'corrcoef', 'correlate', 'cos', 'cosh', 'count_nonzero', 'cov', 'cross', 'csingle', 'ctypeslib', 'cumprod', 'cumsum', 'cumulative_prod', 'cumulative_sum', 'datetime64', 'datetime_as_string', 'datetime_data', 'deg2rad', 'degrees', 'delete', 'diag', 'diag_indices', 'diag_indices_from', 'diagflat', 'diagonal', 'diff', 'digitize', 'divide', 'divmod', 'dot', 'double', 'dsplit', 'dstack', 'dtype', 'dtypes', 'e', 'ediff1d', 'einsum', 'einsum_path', 'emath', 'empty', 'empty_like', 'equal', 'errstate', 'euler_gamma', 'exceptions', 'exp', 'exp2', 'expand_dims', 'expm1', 'extract', 'eye', 'f2py', 'fabs', 'fft', 'fill_diagonal', 'finfo', 'fix', 'flatiter', 'flatnonzero', 'flexible', 'flip', 'fliplr', 'flipud', 'float16', 'float32', 'float64', 'float_power', 'floating', 'floor', 'floor_divide', 'fmax', 'fmin', 'fmod', 'format_float_positional', 'format_float_scientific', 'frexp', 'from_dlpack', 'frombuffer', 'fromfile', 'fromfunction', 'fromiter', 'frompyfunc', 'fromregex', 'fromstring', 'full', 'full_like', 'gcd', 'generic', 'genfromtxt', 'geomspace', 'get_include', 'get_printoptions', 'getbufsize', 'geterr', 'geterrcall', 'gradient', 'greater', 'greater_equal', 'half', 'hamming', 'hanning', 'heaviside', 'histogram', 'histogram2d', 'histogram_bin_edges', 'histogramdd', 'hsplit', 'hstack', 'hypot', 'i0', 'identity', 'iinfo', 'imag', 'in1d', 'index_exp', 'indices', 'inexact', 'inf', 'info', 'inner', 'insert', 'int16', 'int32', 'int64', 'int8', 'int_', 'intc', 'integer', 'interp', 'intersect1d', 'intp', 'invert', 'is_busday', 'isclose', 'iscomplex', 'iscomplexobj', 'isdtype', 'isfinite', 'isfortran', 'isin', 'isinf', 'isnan', 'isnat', 'isneginf', 'isposinf', 'isreal', 'isrealobj', 'isscalar', 'issubdtype', 'iterable', 'ix_', 'kaiser', 'kron', 'lcm', 'ldexp', 'left_shift', 'less', 'less_equal', 'lexsort', 'lib', 'linalg', 'linspace', 'little_endian', 'load', 'loadtxt', 'log', 'log10', 'log1p', 'log2', 'logaddexp', 'logaddexp2', 'logical_and', 'logical_not', 'logical_or', 'logical_xor', 'logspace', 'long', 'longdouble', 'longlong', 'ma', 'mask_indices', 'matmul', 'matrix', 'matrix_transpose', 'matvec', 'max', 'maximum', 'may_share_memory', 'mean', 'median', 'memmap', 'meshgrid', 'mgrid', 'min', 'min_scalar_type', 'minimum', 'mintypecode', 'mod', 'modf', 'moveaxis', 'multiply', 'nan', 'nan_to_num', 'nanargmax', 'nanargmin', 'nancumprod', 'nancumsum', 'nanmax', 'nanmean', 'nanmedian', 'nanmin', 'nanpercentile', 'nanprod', 'nanquantile', 'nanstd', 'nansum', 'nanvar', 'ndarray', 'ndenumerate', 'ndim', 'ndindex', 'nditer', 'negative', 'nested_iters', 'newaxis', 'nextafter', 'nonzero', 'not_equal', 'number', 'object_', 'ogrid', 'ones', 'ones_like', 'outer', 'packbits', 'pad', 'partition', 'percentile', 'permute_dims', 'pi', 'piecewise', 'place', 'poly', 'poly1d', 'polyadd', 'polyder', 'polydiv', 'polyfit', 'polyint', 'polymul', 'polynomial', 'polysub', 'polyval', 'positive', 'pow', 'power', 'printoptions', 'prod', 'promote_types', 'ptp', 'put', 'put_along_axis', 'putmask', 'quantile', 'r_', 'rad2deg', 'radians', 'random', 'ravel', 'ravel_multi_index', 'real', 'real_if_close', 'rec', 'recarray', 'reciprocal', 'record', 'remainder', 'repeat', 'require', 'reshape', 'resize', 'result_type', 'right_shift', 'rint', 'roll', 'rollaxis', 'roots', 'rot90', 'round', 'row_stack', 's_', 'save', 'savetxt', 'savez', 'savez_compressed', 'sctypeDict', 'searchsorted', 'select', 'set_printoptions', 'setbufsize', 'setdiff1d', 'seterr', 'seterrcall', 'setxor1d', 'shape', 'shares_memory', 'short', 'show_config', 'show_runtime', 'sign', 'signbit', 'signedinteger', 'sin', 'sinc', 'single', 'sinh', 'size', 'sort', 'sort_complex', 'spacing', 'split', 'sqrt', 'square', 'squeeze', 'stack', 'std', 'str_', 'strings', 'subtract', 'sum', 'swapaxes', 'take', 'take_along_axis', 'tan', 'tanh', 'tensordot', 'test', 'testing', 'tile', 'timedelta64', 'trace', 'transpose', 'trapezoid', 'trapz', 'tri', 'tril', 'tril_indices', 'tril_indices_from', 'trim_zeros', 'triu', 'triu_indices', 'triu_indices_from', 'true_divide', 'trunc', 'typecodes', 'typename', 'typing', 'ubyte', 'ufunc', 'uint', 'uint16', 'uint32', 'uint64', 'uint8', 'uintc', 'uintp', 'ulong', 'ulonglong', 'union1d', 'unique', 'unique_all', 'unique_counts', 'unique_inverse', 'unique_values', 'unpackbits', 'unravel_index', 'unsignedinteger', 'unstack', 'unwrap', 'ushort', 'vander', 'var', 'vdot', 'vecdot', 'vecmat', 'vectorize', 'void', 'vsplit', 'vstack', 'where', 'zeros', 'zeros_like']\n"
     ]
    }
   ],
   "source": [
    "import numpy as np\n",
    "\n",
    "print('numpy:', np.__version__)\n",
    "print(dir(np))"
   ]
  },
  {
   "cell_type": "code",
   "execution_count": 2,
   "metadata": {},
   "outputs": [
    {
     "name": "stdout",
     "output_type": "stream",
     "text": [
      "Type: <class 'list'>\n",
      "[1, 2, 3, 4, 5]\n",
      "[[0, 1, 2], [3, 4, 5], [6, 7, 8]]\n",
      "<class 'numpy.ndarray'>\n",
      "[1 2 3 4 5]\n"
     ]
    }
   ],
   "source": [
    "python_list = [1,2,3,4,5]\n",
    "\n",
    "print('Type:', type (python_list)) # <class 'list'>\n",
    "print(python_list) # [1, 2, 3, 4, 5]\n",
    "\n",
    "two_dimensional_list = [[0,1,2], [3,4,5], [6,7,8]]\n",
    "\n",
    "print(two_dimensional_list)  # [[0, 1, 2], [3, 4, 5], [6, 7, 8]]\n",
    "\n",
    "numpy_array_from_list = np.array(python_list)\n",
    "print(type (numpy_array_from_list))   # <class 'numpy.ndarray'>\n",
    "print(numpy_array_from_list) # array([1, 2, 3, 4, 5])"
   ]
  },
  {
   "cell_type": "code",
   "execution_count": 3,
   "metadata": {},
   "outputs": [
    {
     "name": "stdout",
     "output_type": "stream",
     "text": [
      "0    1\n",
      "1    2\n",
      "2    3\n",
      "3    4\n",
      "4    5\n",
      "dtype: int64\n"
     ]
    }
   ],
   "source": [
    "import pandas as pd # importing pandas as pd\n",
    "import numpy  as np # importing numpy as np\n",
    "\n",
    "nums = [1, 2, 3, 4,5]\n",
    "s = pd.Series(nums)\n",
    "print(s)"
   ]
  },
  {
   "cell_type": "code",
   "execution_count": 4,
   "metadata": {},
   "outputs": [
    {
     "name": "stdout",
     "output_type": "stream",
     "text": [
      "name       Asabeneh\n",
      "country     Finland\n",
      "city       Helsinki\n",
      "dtype: object\n"
     ]
    }
   ],
   "source": [
    "dct = {'name':'Asabeneh','country':'Finland','city':'Helsinki'}\n",
    "s = pd.Series(dct)\n",
    "print(s)"
   ]
  },
  {
   "cell_type": "code",
   "execution_count": null,
   "metadata": {},
   "outputs": [
    {
     "name": "stdout",
     "output_type": "stream",
     "text": [
      "      Names  Country       City\n",
      "0  Asabeneh  Finland    Helsink\n",
      "1     David       UK     London\n",
      "2      John   Sweden  Stockholm\n"
     ]
    }
   ],
   "source": [
    "data = [\n",
    "    ['Asabeneh', 'Finland', 'Helsink'],\n",
    "    ['David', 'UK', 'London'],\n",
    "    ['John', 'Sweden', 'Stockholm']\n",
    "]\n",
    "df = pd.DataFrame(data, columns=['Names','Country','City'])\n",
    "print(df)"
   ]
  },
  {
   "cell_type": "code",
   "execution_count": 5,
   "metadata": {},
   "outputs": [
    {
     "data": {
      "text/html": [
       "<div>\n",
       "<style scoped>\n",
       "    .dataframe tbody tr th:only-of-type {\n",
       "        vertical-align: middle;\n",
       "    }\n",
       "\n",
       "    .dataframe tbody tr th {\n",
       "        vertical-align: top;\n",
       "    }\n",
       "\n",
       "    .dataframe thead th {\n",
       "        text-align: right;\n",
       "    }\n",
       "</style>\n",
       "<table border=\"1\" class=\"dataframe\">\n",
       "  <thead>\n",
       "    <tr style=\"text-align: right;\">\n",
       "      <th></th>\n",
       "      <th>Name</th>\n",
       "      <th>Country</th>\n",
       "      <th>City</th>\n",
       "    </tr>\n",
       "  </thead>\n",
       "  <tbody>\n",
       "    <tr>\n",
       "      <th>0</th>\n",
       "      <td>Asabeneh</td>\n",
       "      <td>Finland</td>\n",
       "      <td>Helsiki</td>\n",
       "    </tr>\n",
       "    <tr>\n",
       "      <th>1</th>\n",
       "      <td>David</td>\n",
       "      <td>UK</td>\n",
       "      <td>London</td>\n",
       "    </tr>\n",
       "    <tr>\n",
       "      <th>2</th>\n",
       "      <td>John</td>\n",
       "      <td>Sweden</td>\n",
       "      <td>Stockholm</td>\n",
       "    </tr>\n",
       "  </tbody>\n",
       "</table>\n",
       "</div>"
      ],
      "text/plain": [
       "       Name  Country       City\n",
       "0  Asabeneh  Finland    Helsiki\n",
       "1     David       UK     London\n",
       "2      John   Sweden  Stockholm"
      ]
     },
     "execution_count": 5,
     "metadata": {},
     "output_type": "execute_result"
    }
   ],
   "source": [
    "data = {'Name': ['Asabeneh', 'David', 'John'], 'Country':[\n",
    "    'Finland', 'UK', 'Sweden'], 'City': ['Helsiki', 'London', 'Stockholm']}\n",
    "df = pd.DataFrame(data)\n",
    "df"
   ]
  },
  {
   "cell_type": "code",
   "execution_count": 7,
   "metadata": {},
   "outputs": [
    {
     "name": "stdout",
     "output_type": "stream",
     "text": [
      "      Gender     Height      Weight\n",
      "0       Male  73.847017  241.893563\n",
      "1       Male  68.781904  162.310473\n",
      "2       Male  74.110105  212.740856\n",
      "3       Male  71.730978  220.042470\n",
      "4       Male  69.881796  206.349801\n",
      "...      ...        ...         ...\n",
      "9995  Female  66.172652  136.777454\n",
      "9996  Female  67.067155  170.867906\n",
      "9997  Female  63.867992  128.475319\n",
      "9998  Female  69.034243  163.852461\n",
      "9999  Female  61.944246  113.649103\n",
      "\n",
      "[10000 rows x 3 columns]\n"
     ]
    }
   ],
   "source": [
    "import pandas as pd\n",
    "\n",
    "df = pd.read_csv('https://raw.githubusercontent.com/Asabeneh/30-Days-Of-Python/master/data/weight-height.csv')\n",
    "print(df)"
   ]
  },
  {
   "cell_type": "code",
   "execution_count": 10,
   "metadata": {},
   "outputs": [
    {
     "name": "stdout",
     "output_type": "stream",
     "text": [
      "  Gender     Height      Weight\n",
      "0   Male  73.847017  241.893563\n",
      "1   Male  68.781904  162.310473\n",
      "2   Male  74.110105  212.740856\n",
      "3   Male  71.730978  220.042470\n",
      "4   Male  69.881796  206.349801\n",
      "5   Male  67.253016  152.212156\n",
      "6   Male  68.785081  183.927889\n",
      "7   Male  68.348516  167.971110\n",
      "8   Male  67.018950  175.929440\n",
      "9   Male  63.456494  156.399676\n"
     ]
    }
   ],
   "source": [
    "print(df.head(10))"
   ]
  },
  {
   "cell_type": "code",
   "execution_count": 13,
   "metadata": {},
   "outputs": [
    {
     "name": "stdout",
     "output_type": "stream",
     "text": [
      "      Gender     Height      Weight\n",
      "9995  Female  66.172652  136.777454\n",
      "9996  Female  67.067155  170.867906\n",
      "9997  Female  63.867992  128.475319\n",
      "9998  Female  69.034243  163.852461\n",
      "9999  Female  61.944246  113.649103\n"
     ]
    }
   ],
   "source": [
    "print(df.tail())"
   ]
  },
  {
   "cell_type": "code",
   "execution_count": 15,
   "metadata": {},
   "outputs": [
    {
     "name": "stdout",
     "output_type": "stream",
     "text": [
      "(10000, 3)\n",
      "Index(['Gender', 'Height', 'Weight'], dtype='object')\n"
     ]
    }
   ],
   "source": [
    "print(df.shape)\n",
    "print(df.columns)"
   ]
  },
  {
   "cell_type": "code",
   "execution_count": 16,
   "metadata": {},
   "outputs": [
    {
     "data": {
      "text/plain": [
       "0       73.847017\n",
       "1       68.781904\n",
       "2       74.110105\n",
       "3       71.730978\n",
       "4       69.881796\n",
       "          ...    \n",
       "9995    66.172652\n",
       "9996    67.067155\n",
       "9997    63.867992\n",
       "9998    69.034243\n",
       "9999    61.944246\n",
       "Name: Height, Length: 10000, dtype: float64"
      ]
     },
     "execution_count": 16,
     "metadata": {},
     "output_type": "execute_result"
    }
   ],
   "source": [
    "h = df['Height']\n",
    "h"
   ]
  },
  {
   "cell_type": "code",
   "execution_count": 17,
   "metadata": {},
   "outputs": [
    {
     "name": "stdout",
     "output_type": "stream",
     "text": [
      "count    10000.000000\n",
      "mean        66.367560\n",
      "std          3.847528\n",
      "min         54.263133\n",
      "25%         63.505620\n",
      "50%         66.318070\n",
      "75%         69.174262\n",
      "max         78.998742\n",
      "Name: Height, dtype: float64\n"
     ]
    }
   ],
   "source": [
    "print(h.describe())"
   ]
  },
  {
   "cell_type": "code",
   "execution_count": 2,
   "metadata": {},
   "outputs": [
    {
     "data": {
      "text/html": [
       "<div>\n",
       "<style scoped>\n",
       "    .dataframe tbody tr th:only-of-type {\n",
       "        vertical-align: middle;\n",
       "    }\n",
       "\n",
       "    .dataframe tbody tr th {\n",
       "        vertical-align: top;\n",
       "    }\n",
       "\n",
       "    .dataframe thead th {\n",
       "        text-align: right;\n",
       "    }\n",
       "</style>\n",
       "<table border=\"1\" class=\"dataframe\">\n",
       "  <thead>\n",
       "    <tr style=\"text-align: right;\">\n",
       "      <th></th>\n",
       "      <th>id</th>\n",
       "      <th>title</th>\n",
       "      <th>url</th>\n",
       "      <th>num_points</th>\n",
       "      <th>num_comments</th>\n",
       "      <th>author</th>\n",
       "      <th>created_at</th>\n",
       "    </tr>\n",
       "  </thead>\n",
       "  <tbody>\n",
       "    <tr>\n",
       "      <th>0</th>\n",
       "      <td>12224879</td>\n",
       "      <td>Interactive Dynamic Video</td>\n",
       "      <td>http://www.interactivedynamicvideo.com/</td>\n",
       "      <td>386</td>\n",
       "      <td>52</td>\n",
       "      <td>ne0phyte</td>\n",
       "      <td>8/4/2016 11:52</td>\n",
       "    </tr>\n",
       "    <tr>\n",
       "      <th>1</th>\n",
       "      <td>11964716</td>\n",
       "      <td>Florida DJs May Face Felony for April Fools' W...</td>\n",
       "      <td>http://www.thewire.com/entertainment/2013/04/f...</td>\n",
       "      <td>2</td>\n",
       "      <td>1</td>\n",
       "      <td>vezycash</td>\n",
       "      <td>6/23/2016 22:20</td>\n",
       "    </tr>\n",
       "    <tr>\n",
       "      <th>2</th>\n",
       "      <td>11919867</td>\n",
       "      <td>Technology ventures: From Idea to Enterprise</td>\n",
       "      <td>https://www.amazon.com/Technology-Ventures-Ent...</td>\n",
       "      <td>3</td>\n",
       "      <td>1</td>\n",
       "      <td>hswarna</td>\n",
       "      <td>6/17/2016 0:01</td>\n",
       "    </tr>\n",
       "    <tr>\n",
       "      <th>3</th>\n",
       "      <td>10301696</td>\n",
       "      <td>Note by Note: The Making of Steinway L1037 (2007)</td>\n",
       "      <td>http://www.nytimes.com/2007/11/07/movies/07ste...</td>\n",
       "      <td>8</td>\n",
       "      <td>2</td>\n",
       "      <td>walterbell</td>\n",
       "      <td>9/30/2015 4:12</td>\n",
       "    </tr>\n",
       "    <tr>\n",
       "      <th>4</th>\n",
       "      <td>10482257</td>\n",
       "      <td>Title II kills investment? Comcast and other I...</td>\n",
       "      <td>http://arstechnica.com/business/2015/10/comcas...</td>\n",
       "      <td>53</td>\n",
       "      <td>22</td>\n",
       "      <td>Deinos</td>\n",
       "      <td>10/31/2015 9:48</td>\n",
       "    </tr>\n",
       "    <tr>\n",
       "      <th>...</th>\n",
       "      <td>...</td>\n",
       "      <td>...</td>\n",
       "      <td>...</td>\n",
       "      <td>...</td>\n",
       "      <td>...</td>\n",
       "      <td>...</td>\n",
       "      <td>...</td>\n",
       "    </tr>\n",
       "    <tr>\n",
       "      <th>20094</th>\n",
       "      <td>12379592</td>\n",
       "      <td>How Purism Avoids Intels Active Management Tec...</td>\n",
       "      <td>https://puri.sm/philosophy/how-purism-avoids-i...</td>\n",
       "      <td>10</td>\n",
       "      <td>6</td>\n",
       "      <td>AdmiralAsshat</td>\n",
       "      <td>8/29/2016 2:22</td>\n",
       "    </tr>\n",
       "    <tr>\n",
       "      <th>20095</th>\n",
       "      <td>10339284</td>\n",
       "      <td>YC Application Translated and Broken Down</td>\n",
       "      <td>https://medium.com/@zreitano/the-yc-applicatio...</td>\n",
       "      <td>4</td>\n",
       "      <td>1</td>\n",
       "      <td>zreitano</td>\n",
       "      <td>10/6/2015 14:57</td>\n",
       "    </tr>\n",
       "    <tr>\n",
       "      <th>20096</th>\n",
       "      <td>10824382</td>\n",
       "      <td>Microkernels are slow and Elvis didn't do no d...</td>\n",
       "      <td>http://blog.darknedgy.net/technology/2016/01/0...</td>\n",
       "      <td>169</td>\n",
       "      <td>132</td>\n",
       "      <td>vezzy-fnord</td>\n",
       "      <td>1/2/2016 0:49</td>\n",
       "    </tr>\n",
       "    <tr>\n",
       "      <th>20097</th>\n",
       "      <td>10739875</td>\n",
       "      <td>How Product Hunt really works</td>\n",
       "      <td>https://medium.com/@benjiwheeler/how-product-h...</td>\n",
       "      <td>695</td>\n",
       "      <td>222</td>\n",
       "      <td>brw12</td>\n",
       "      <td>12/15/2015 19:32</td>\n",
       "    </tr>\n",
       "    <tr>\n",
       "      <th>20098</th>\n",
       "      <td>11680777</td>\n",
       "      <td>RoboBrowser: Your friendly neighborhood web sc...</td>\n",
       "      <td>https://github.com/jmcarp/robobrowser</td>\n",
       "      <td>182</td>\n",
       "      <td>58</td>\n",
       "      <td>pmoriarty</td>\n",
       "      <td>5/12/2016 1:43</td>\n",
       "    </tr>\n",
       "  </tbody>\n",
       "</table>\n",
       "<p>20099 rows × 7 columns</p>\n",
       "</div>"
      ],
      "text/plain": [
       "             id                                              title  \\\n",
       "0      12224879                          Interactive Dynamic Video   \n",
       "1      11964716  Florida DJs May Face Felony for April Fools' W...   \n",
       "2      11919867       Technology ventures: From Idea to Enterprise   \n",
       "3      10301696  Note by Note: The Making of Steinway L1037 (2007)   \n",
       "4      10482257  Title II kills investment? Comcast and other I...   \n",
       "...         ...                                                ...   \n",
       "20094  12379592  How Purism Avoids Intels Active Management Tec...   \n",
       "20095  10339284          YC Application Translated and Broken Down   \n",
       "20096  10824382  Microkernels are slow and Elvis didn't do no d...   \n",
       "20097  10739875                      How Product Hunt really works   \n",
       "20098  11680777  RoboBrowser: Your friendly neighborhood web sc...   \n",
       "\n",
       "                                                     url  num_points  \\\n",
       "0                http://www.interactivedynamicvideo.com/         386   \n",
       "1      http://www.thewire.com/entertainment/2013/04/f...           2   \n",
       "2      https://www.amazon.com/Technology-Ventures-Ent...           3   \n",
       "3      http://www.nytimes.com/2007/11/07/movies/07ste...           8   \n",
       "4      http://arstechnica.com/business/2015/10/comcas...          53   \n",
       "...                                                  ...         ...   \n",
       "20094  https://puri.sm/philosophy/how-purism-avoids-i...          10   \n",
       "20095  https://medium.com/@zreitano/the-yc-applicatio...           4   \n",
       "20096  http://blog.darknedgy.net/technology/2016/01/0...         169   \n",
       "20097  https://medium.com/@benjiwheeler/how-product-h...         695   \n",
       "20098              https://github.com/jmcarp/robobrowser         182   \n",
       "\n",
       "       num_comments         author        created_at  \n",
       "0                52       ne0phyte    8/4/2016 11:52  \n",
       "1                 1       vezycash   6/23/2016 22:20  \n",
       "2                 1        hswarna    6/17/2016 0:01  \n",
       "3                 2     walterbell    9/30/2015 4:12  \n",
       "4                22         Deinos   10/31/2015 9:48  \n",
       "...             ...            ...               ...  \n",
       "20094             6  AdmiralAsshat    8/29/2016 2:22  \n",
       "20095             1       zreitano   10/6/2015 14:57  \n",
       "20096           132    vezzy-fnord     1/2/2016 0:49  \n",
       "20097           222          brw12  12/15/2015 19:32  \n",
       "20098            58      pmoriarty    5/12/2016 1:43  \n",
       "\n",
       "[20099 rows x 7 columns]"
      ]
     },
     "execution_count": 2,
     "metadata": {},
     "output_type": "execute_result"
    }
   ],
   "source": [
    "import pandas as pd\n",
    "\n",
    "df = pd.read_csv(\"https://raw.githubusercontent.com/Asabeneh/30-Days-Of-Python/refs/heads/master/data/hacker_news.csv\")\n",
    "df"
   ]
  },
  {
   "cell_type": "code",
   "execution_count": 3,
   "metadata": {},
   "outputs": [
    {
     "name": "stdout",
     "output_type": "stream",
     "text": [
      "         id                                              title  \\\n",
      "2  11919867       Technology ventures: From Idea to Enterprise   \n",
      "3  10301696  Note by Note: The Making of Steinway L1037 (2007)   \n",
      "4  10482257  Title II kills investment? Comcast and other I...   \n",
      "\n",
      "                                                 url  num_points  \\\n",
      "2  https://www.amazon.com/Technology-Ventures-Ent...           3   \n",
      "3  http://www.nytimes.com/2007/11/07/movies/07ste...           8   \n",
      "4  http://arstechnica.com/business/2015/10/comcas...          53   \n",
      "\n",
      "   num_comments      author       created_at  \n",
      "2             1     hswarna   6/17/2016 0:01  \n",
      "3             2  walterbell   9/30/2015 4:12  \n",
      "4            22      Deinos  10/31/2015 9:48  \n"
     ]
    }
   ],
   "source": [
    "print(df.iloc[2:5])"
   ]
  },
  {
   "cell_type": "code",
   "execution_count": 26,
   "metadata": {},
   "outputs": [
    {
     "name": "stdout",
     "output_type": "stream",
     "text": [
      "             id                                              title  \\\n",
      "20094  12379592  How Purism Avoids Intels Active Management Tec...   \n",
      "20095  10339284          YC Application Translated and Broken Down   \n",
      "20096  10824382  Microkernels are slow and Elvis didn't do no d...   \n",
      "20097  10739875                      How Product Hunt really works   \n",
      "20098  11680777  RoboBrowser: Your friendly neighborhood web sc...   \n",
      "\n",
      "                                                     url  num_points  \\\n",
      "20094  https://puri.sm/philosophy/how-purism-avoids-i...          10   \n",
      "20095  https://medium.com/@zreitano/the-yc-applicatio...           4   \n",
      "20096  http://blog.darknedgy.net/technology/2016/01/0...         169   \n",
      "20097  https://medium.com/@benjiwheeler/how-product-h...         695   \n",
      "20098              https://github.com/jmcarp/robobrowser         182   \n",
      "\n",
      "       num_comments         author        created_at  \n",
      "20094             6  AdmiralAsshat    8/29/2016 2:22  \n",
      "20095             1       zreitano   10/6/2015 14:57  \n",
      "20096           132    vezzy-fnord     1/2/2016 0:49  \n",
      "20097           222          brw12  12/15/2015 19:32  \n",
      "20098            58      pmoriarty    5/12/2016 1:43  \n"
     ]
    }
   ],
   "source": [
    "print(df.tail())"
   ]
  },
  {
   "cell_type": "code",
   "execution_count": 4,
   "metadata": {},
   "outputs": [
    {
     "name": "stdout",
     "output_type": "stream",
     "text": [
      "Index(['id', 'title', 'url', 'num_points', 'num_comments', 'author',\n",
      "       'created_at'],\n",
      "      dtype='object')\n"
     ]
    }
   ],
   "source": [
    "print(df.columns)"
   ]
  },
  {
   "cell_type": "code",
   "execution_count": 5,
   "metadata": {},
   "outputs": [
    {
     "name": "stdout",
     "output_type": "stream",
     "text": [
      "(20099, 7)\n"
     ]
    }
   ],
   "source": [
    "print(df.shape)"
   ]
  },
  {
   "cell_type": "code",
   "execution_count": 15,
   "metadata": {},
   "outputs": [
    {
     "name": "stdout",
     "output_type": "stream",
     "text": [
      "             id                                              title  \\\n",
      "102    10974870                From Python to Lua: Why We Switched   \n",
      "103    11244541          Ubuntu 16.04 LTS to Ship Without Python 2   \n",
      "144    10963528  Create a GUI Application Using Qt and Python i...   \n",
      "196    10716331  How I Solved GCHQ's Xmas Card with Python and ...   \n",
      "436    11895088  Unikernel Power Comes to Java, Node.js, Go, an...   \n",
      "...         ...                                                ...   \n",
      "19597  12061177  David Beazley  Python Concurrency from the Gro...   \n",
      "19852  10988468    Ask HN: How to automate Python apps deployment?   \n",
      "19862  11738470                          Moving Away from Python 2   \n",
      "19980  12524656                      Python vs. Julia Observations   \n",
      "19998  11735438  Show HN: Decorating: Animated pulsed for your ...   \n",
      "\n",
      "                                                     url  num_points  \\\n",
      "102    https://www.distelli.com/blog/using-lua-for-ou...         243   \n",
      "103    http://news.softpedia.com/news/ubuntu-16-04-lt...           2   \n",
      "144                        http://digitalpeer.com/s/c63e          21   \n",
      "196    http://matthewearl.github.io/2015/12/10/gchq-x...           6   \n",
      "436    http://www.infoworld.com/article/3082051/open-...           3   \n",
      "...                                                  ...         ...   \n",
      "19597        https://www.youtube.com/watch?v=MCs5OvhV9S4           2   \n",
      "19852                                                NaN           4   \n",
      "19862  https://asmeurer.github.io/blog/posts/moving-a...         227   \n",
      "19980  https://medium.com/@Jernfrost/python-vs-julia-...           2   \n",
      "19998             https://github.com/ryukinix/decorating           3   \n",
      "\n",
      "       num_comments        author        created_at  \n",
      "102             188      chase202   1/26/2016 18:17  \n",
      "103               1       _snydly    3/8/2016 10:39  \n",
      "144               1        zoodle   1/24/2016 19:01  \n",
      "196               1          kipi  12/11/2015 10:38  \n",
      "436               1  syslandscape   6/13/2016 16:23  \n",
      "...             ...           ...               ...  \n",
      "19597             1      bakery2k    7/9/2016 13:05  \n",
      "19852            18       aalhour   1/28/2016 14:55  \n",
      "19862           275     ngoldbaum   5/20/2016 15:14  \n",
      "19980             1   blacksmythe    9/18/2016 9:54  \n",
      "19998             1         lerax    5/20/2016 3:48  \n",
      "\n",
      "[160 rows x 7 columns]\n"
     ]
    }
   ],
   "source": [
    "filtered_df = df[df['title'].str.contains('python', case=False, na=False)]\n",
    "print(filtered_df)"
   ]
  },
  {
   "cell_type": "code",
   "execution_count": 17,
   "metadata": {},
   "outputs": [
    {
     "name": "stdout",
     "output_type": "stream",
     "text": [
      "             id                                              title  \\\n",
      "267    12352636   Show HN: Hire JavaScript - Top JavaScript Talent   \n",
      "811    10741251  Ask HN: Are there any projects or compilers wh...   \n",
      "1046   11343334  If you write JavaScript tools or libraries, bu...   \n",
      "1093   10422726  Rollup.js: A next-generation JavaScript module...   \n",
      "1162   12461624               V8 JavaScript Engine: V8 Release 5.4   \n",
      "...         ...                                                ...   \n",
      "19349  11448301    Fotorama, a responsive JavaScript photo gallery   \n",
      "19548  12105148                 Another Kind of JavaScript Fatigue   \n",
      "19610  12203508  Lonely programmer detective uncovers the Mozil...   \n",
      "19885  12552131  Ask HN: Best Practices for CSS in a Modern Jav...   \n",
      "20069  12149183  Show HN: Parse recipe ingredients using JavaSc...   \n",
      "\n",
      "                                                     url  num_points  \\\n",
      "267                              https://www.hirejs.com/           1   \n",
      "811                                                  NaN           1   \n",
      "1046   https://medium.com/@Rich_Harris/how-to-not-bre...          48   \n",
      "1093                                 http://rollupjs.org          57   \n",
      "1162   http://v8project.blogspot.com/2016/09/v8-relea...         126   \n",
      "...                                                  ...         ...   \n",
      "19349                                http://fotorama.io/           1   \n",
      "19548  http://chrismm.com/blog/the-other-kind-of-java...           9   \n",
      "19610         http://stackoverflow.com/a/38677222/984780          29   \n",
      "19885                                                NaN           6   \n",
      "20069       https://github.com/herkyl/ingredients-parser           6   \n",
      "\n",
      "       num_comments          author        created_at  \n",
      "267               1        eibrahim   8/24/2016 15:16  \n",
      "811               2         ggonweb  12/15/2015 23:26  \n",
      "1046             19     callumlocke   3/23/2016 10:54  \n",
      "1093             17         dmmalam   10/21/2015 0:02  \n",
      "1162             19           okket    9/9/2016 12:46  \n",
      "...             ...             ...               ...  \n",
      "19349             1         alexkon    4/7/2016 15:59  \n",
      "19548             2    JacksCracked    7/16/2016 3:44  \n",
      "19610             8    luisperezphd    8/1/2016 16:07  \n",
      "19885             6        xwvvvvwx   9/21/2016 20:53  \n",
      "20069             2  zongitsrinzler   7/23/2016 11:35  \n",
      "\n",
      "[169 rows x 7 columns]\n"
     ]
    }
   ],
   "source": [
    "filtered_df = df[df['title'].str.contains('JavaScript')]\n",
    "print(filtered_df)"
   ]
  }
 ],
 "metadata": {
  "kernelspec": {
   "display_name": "project_venv",
   "language": "python",
   "name": "python3"
  },
  "language_info": {
   "codemirror_mode": {
    "name": "ipython",
    "version": 3
   },
   "file_extension": ".py",
   "mimetype": "text/x-python",
   "name": "python",
   "nbconvert_exporter": "python",
   "pygments_lexer": "ipython3",
   "version": "3.13.2"
  }
 },
 "nbformat": 4,
 "nbformat_minor": 2
}
