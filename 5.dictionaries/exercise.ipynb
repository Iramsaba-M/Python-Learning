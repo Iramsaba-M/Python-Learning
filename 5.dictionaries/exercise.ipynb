{
 "cells": [
  {
   "cell_type": "code",
   "execution_count": 11,
   "metadata": {},
   "outputs": [
    {
     "data": {
      "text/plain": [
       "{'name': 'tommy', 'color': 'white', 'breed': 'dog', 'legs': '2', 'age': '10'}"
      ]
     },
     "execution_count": 11,
     "metadata": {},
     "output_type": "execute_result"
    }
   ],
   "source": [
    "dog = {\n",
    "     'name':'tommy',\n",
    "     'color':'white',\n",
    "     'breed':'dog',\n",
    "       'legs':'2',\n",
    "        'age':'10'  }\n",
    "dog"
   ]
  },
  {
   "cell_type": "code",
   "execution_count": 12,
   "metadata": {},
   "outputs": [
    {
     "name": "stdout",
     "output_type": "stream",
     "text": [
      "4\n"
     ]
    }
   ],
   "source": [
    "student = {\n",
    "    'first_name' : 'jagrathi',\n",
    "    'last_name' : 'm',\n",
    "    'gender' : 'female',\n",
    "    'age' : '28'  \n",
    "}\n",
    "\n",
    "student\n",
    "print(len(student))\n"
   ]
  },
  {
   "cell_type": "code",
   "execution_count": 15,
   "metadata": {},
   "outputs": [
    {
     "name": "stdout",
     "output_type": "stream",
     "text": [
      "<class 'str'>\n"
     ]
    }
   ],
   "source": [
    "s = (student['age'])\n",
    "print(type(s))"
   ]
  },
  {
   "cell_type": "code",
   "execution_count": 16,
   "metadata": {},
   "outputs": [
    {
     "data": {
      "text/plain": [
       "{'first_name': 'jagrathi',\n",
       " 'last_name': 'm',\n",
       " 'gender': 'female',\n",
       " 'age': '28',\n",
       " 'skills': ['java', 'html', 'python']}"
      ]
     },
     "execution_count": 16,
     "metadata": {},
     "output_type": "execute_result"
    }
   ],
   "source": [
    "student['skills'] = ['java', 'html','python']\n",
    "student"
   ]
  },
  {
   "cell_type": "code",
   "execution_count": 25,
   "metadata": {},
   "outputs": [
    {
     "data": {
      "text/plain": [
       "{'first_name': 'jagrathi',\n",
       " 'last_name': 'm',\n",
       " 'gender': 'female',\n",
       " 'age': '28',\n",
       " 'skills': ['java', 'html', 'python', 'sql']}"
      ]
     },
     "execution_count": 25,
     "metadata": {},
     "output_type": "execute_result"
    }
   ],
   "source": [
    "student['skills'].remove('sql')\n",
    "student"
   ]
  },
  {
   "cell_type": "code",
   "execution_count": 28,
   "metadata": {},
   "outputs": [
    {
     "name": "stdout",
     "output_type": "stream",
     "text": [
      "dict_keys(['first_name', 'last_name', 'gender', 'age', 'skills'])\n",
      "dict_values(['jagrathi', 'm', 'female', '28', ['java', 'html', 'python', 'sql']])\n"
     ]
    }
   ],
   "source": [
    "print(student.keys())\n",
    "print(student.values())"
   ]
  },
  {
   "cell_type": "code",
   "execution_count": 29,
   "metadata": {},
   "outputs": [
    {
     "data": {
      "text/plain": [
       "dict_items([('first_name', 'jagrathi'), ('last_name', 'm'), ('gender', 'female'), ('age', '28'), ('skills', ['java', 'html', 'python', 'sql'])])"
      ]
     },
     "execution_count": 29,
     "metadata": {},
     "output_type": "execute_result"
    }
   ],
   "source": [
    "student.items()"
   ]
  },
  {
   "cell_type": "code",
   "execution_count": 34,
   "metadata": {},
   "outputs": [
    {
     "data": {
      "text/plain": [
       "{'first_name': 'jagrathi',\n",
       " 'last_name': 'm',\n",
       " 'gender': 'female',\n",
       " 'skills': ['java', 'html', 'python', 'sql']}"
      ]
     },
     "execution_count": 34,
     "metadata": {},
     "output_type": "execute_result"
    }
   ],
   "source": [
    "student.pop('age')\n",
    "student"
   ]
  },
  {
   "cell_type": "code",
   "execution_count": 41,
   "metadata": {},
   "outputs": [
    {
     "data": {
      "text/plain": [
       "{'first_name': 'jagrathi',\n",
       " 'last_name': 'm',\n",
       " 'gender': 'female',\n",
       " 'skills': ['java', 'html', 'python', 'sql']}"
      ]
     },
     "execution_count": 41,
     "metadata": {},
     "output_type": "execute_result"
    }
   ],
   "source": [
    "student"
   ]
  }
 ],
 "metadata": {
  "kernelspec": {
   "display_name": "Python 3",
   "language": "python",
   "name": "python3"
  },
  "language_info": {
   "codemirror_mode": {
    "name": "ipython",
    "version": 3
   },
   "file_extension": ".py",
   "mimetype": "text/x-python",
   "name": "python",
   "nbconvert_exporter": "python",
   "pygments_lexer": "ipython3",
   "version": "3.13.2"
  }
 },
 "nbformat": 4,
 "nbformat_minor": 2
}
