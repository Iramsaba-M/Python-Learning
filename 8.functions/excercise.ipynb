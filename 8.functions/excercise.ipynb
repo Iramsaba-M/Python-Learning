{
 "cells": [
  {
   "cell_type": "code",
   "execution_count": 1,
   "metadata": {},
   "outputs": [
    {
     "data": {
      "text/plain": [
       "65"
      ]
     },
     "execution_count": 1,
     "metadata": {},
     "output_type": "execute_result"
    }
   ],
   "source": [
    "def add_two_numbers(n1, n2):\n",
    "    sum = n1 + n2\n",
    "    return sum\n",
    "\n",
    "add_two_numbers(20, 45)\n",
    "\n",
    "    "
   ]
  },
  {
   "cell_type": "code",
   "execution_count": 2,
   "metadata": {},
   "outputs": [
    {
     "data": {
      "text/plain": [
       "50.24"
      ]
     },
     "execution_count": 2,
     "metadata": {},
     "output_type": "execute_result"
    }
   ],
   "source": [
    "def area_of_circle(r):\n",
    "    pi = 3.14\n",
    "    aoc = pi * r ** 2\n",
    "    return aoc\n",
    "\n",
    "area_of_circle(4)"
   ]
  },
  {
   "cell_type": "code",
   "execution_count": 6,
   "metadata": {},
   "outputs": [
    {
     "name": "stdout",
     "output_type": "stream",
     "text": [
      "60\n",
      "18.5\n",
      "Error: All inputs must be numbers!\n"
     ]
    }
   ],
   "source": [
    "def add_all_nums(*args):\n",
    "    if all(isinstance(num, (int, float)) for num in args):\n",
    "        return sum(args)  \n",
    "    else:\n",
    "        return \"Error: All inputs must be numbers!\"\n",
    "\n",
    "print(add_all_nums(10, 20, 30))  \n",
    "print(add_all_nums(5, 3.5, 10))  \n",
    "print(add_all_nums(10, \"hello\", 5))  \n"
   ]
  },
  {
   "cell_type": "code",
   "execution_count": 7,
   "metadata": {},
   "outputs": [
    {
     "data": {
      "text/plain": [
       "59.0"
      ]
     },
     "execution_count": 7,
     "metadata": {},
     "output_type": "execute_result"
    }
   ],
   "source": [
    "def convert_celsius_to_fahrenheit(c):\n",
    "    f = (c * 9 / 5) + 32\n",
    "    return f\n",
    "\n",
    "convert_celsius_to_fahrenheit(15)"
   ]
  },
  {
   "cell_type": "code",
   "execution_count": null,
   "metadata": {},
   "outputs": [
    {
     "name": "stdout",
     "output_type": "stream",
     "text": [
      "summer season\n"
     ]
    }
   ],
   "source": [
    "def check_season(month):\n",
    "    autumn = [\"September\", \"October\", \"November\"]\n",
    "    winter = [\"December\", \"January\", \"February\"]\n",
    "    spring = [\"June\", \"July\", \"August\"]\n",
    "    summer = [\"March\", \"April\", \"May\"]\n",
    "\n",
    "    m = month.capitalize()\n",
    "    if(m in autumn):\n",
    "        print(\"autumn season\")\n",
    "    elif(m in winter):\n",
    "        print(\"winter season\")\n",
    "    elif(m in spring):\n",
    "        print(\"rainy season\")\n",
    "    elif(m in summer):\n",
    "        print(\"summer season\")\n",
    "    else:\n",
    "        print(\"invalid month\")\n",
    "\n",
    "    return\n",
    "\n",
    "check_season('May')\n",
    "    \n"
   ]
  }
 ],
 "metadata": {
  "kernelspec": {
   "display_name": "Python 3",
   "language": "python",
   "name": "python3"
  },
  "language_info": {
   "codemirror_mode": {
    "name": "ipython",
    "version": 3
   },
   "file_extension": ".py",
   "mimetype": "text/x-python",
   "name": "python",
   "nbconvert_exporter": "python",
   "pygments_lexer": "ipython3",
   "version": "3.13.2"
  }
 },
 "nbformat": 4,
 "nbformat_minor": 2
}
