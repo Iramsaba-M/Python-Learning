{
 "cells": [
  {
   "cell_type": "code",
   "execution_count": null,
   "metadata": {},
   "outputs": [
    {
     "name": "stdout",
     "output_type": "stream",
     "text": [
      "you need 6 years to learn to drive\n"
     ]
    }
   ],
   "source": [
    "str = int(input('Enter your age'))\n",
    "if str >= 18:\n",
    "    print(\"you are older enough to learn to drive\")\n",
    "else:\n",
    "    left = 18 - str\n",
    "    print(f\"you need {left} years to learn to drive\")"
   ]
  },
  {
   "cell_type": "code",
   "execution_count": 7,
   "metadata": {},
   "outputs": [
    {
     "name": "stdout",
     "output_type": "stream",
     "text": [
      "iam 0 year than you\n"
     ]
    }
   ],
   "source": [
    "my_age = int(input(\"enter my age\"))\n",
    "your_age = int(input(\"enter you age\"))\n",
    "\n",
    "if my_age < your_age:\n",
    "    older = your_age - my_age\n",
    "    if older == 1:\n",
    "        print(\"1 year difference\")\n",
    "    elif my_age == your_age:\n",
    "        print(\"equal age\")\n",
    "    else:\n",
    "        print (f\"you are {older} older than me\")\n",
    "else:\n",
    "    older =   my_age - your_age\n",
    "    print(f\"iam {older} year than you\")\n"
   ]
  },
  {
   "cell_type": "code",
   "execution_count": null,
   "metadata": {},
   "outputs": [],
   "source": []
  }
 ],
 "metadata": {
  "kernelspec": {
   "display_name": "Python 3",
   "language": "python",
   "name": "python3"
  },
  "language_info": {
   "codemirror_mode": {
    "name": "ipython",
    "version": 3
   },
   "file_extension": ".py",
   "mimetype": "text/x-python",
   "name": "python",
   "nbconvert_exporter": "python",
   "pygments_lexer": "ipython3",
   "version": "3.13.2"
  }
 },
 "nbformat": 4,
 "nbformat_minor": 2
}
